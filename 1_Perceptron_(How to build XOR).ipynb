{
 "cells": [
  {
   "cell_type": "markdown",
   "metadata": {},
   "source": [
    "## Perceptron\n",
    "<hr/>"
   ]
  },
  {
   "cell_type": "code",
   "execution_count": 23,
   "metadata": {},
   "outputs": [],
   "source": [
    "import numpy as np"
   ]
  },
  {
   "cell_type": "code",
   "execution_count": 45,
   "metadata": {},
   "outputs": [],
   "source": [
    "'''\n",
    "def AND(x1, x2):\n",
    "    W1, W2, b = 0.5, 0.5, -0.7\n",
    "    tmp = (x1 * W1 + x2 * W2) + b\n",
    "    if tmp <= 0:\n",
    "        return 0\n",
    "    else:\n",
    "        return 1\n",
    "    \n",
    "'''\n",
    "\n",
    "def AND(x1, x2):\n",
    "    X = np.array([x1,x2])\n",
    "    W = np.array([0.5, 0.5])\n",
    "    b = -0.7\n",
    "    tmp = np.sum(X * W) + b\n",
    "    if tmp <= 0:\n",
    "        return 0\n",
    "    else:\n",
    "        return 1\n",
    "    \n",
    "def NAND(x1, x2):\n",
    "    X = np.array([x1,x2])\n",
    "    W = np.array([-0.5, -0.5])\n",
    "    b = 0.7\n",
    "    tmp = np.sum(X * W) + b\n",
    "    if tmp <= 0:\n",
    "        return 0\n",
    "    else:\n",
    "        return 1\n",
    "    \n",
    "def OR(x1, x2):\n",
    "    X = np.array([x1,x2])\n",
    "    W = np.array([0.5, 0.5])\n",
    "    b = -0.2\n",
    "    tmp = np.sum(X * W) + b\n",
    "    if tmp <= 0:\n",
    "        return 0\n",
    "    else:\n",
    "        return 1"
   ]
  },
  {
   "cell_type": "code",
   "execution_count": 56,
   "metadata": {
    "scrolled": true
   },
   "outputs": [
    {
     "name": "stdout",
     "output_type": "stream",
     "text": [
      " AND [1,1] :  1\n",
      " AND [0,1] :  0\n",
      " AND [1,0] :  0\n",
      " AND [0,0] :  0\n",
      "\n",
      "NAND [1,1] :  0\n",
      "NAND [0,1] :  1\n",
      "NAND [1,0] :  1\n",
      "NAND [0,0] :  1\n",
      "\n",
      "  OR [1,1] :  1\n",
      "  OR [0,1] :  1\n",
      "  OR [1,0] :  1\n",
      "  OR [0,0] :  0\n"
     ]
    }
   ],
   "source": [
    "print(' AND [1,1] : ', AND(1,1))\n",
    "print(' AND [0,1] : ', AND(0,1))\n",
    "print(' AND [1,0] : ', AND(1,0))\n",
    "print(' AND [0,0] : ', AND(0,0))\n",
    "print()\n",
    "print('NAND [1,1] : ', NAND(1,1))\n",
    "print('NAND [0,1] : ', NAND(0,1))\n",
    "print('NAND [1,0] : ', NAND(1,0))\n",
    "print('NAND [0,0] : ', NAND(0,0))\n",
    "print()\n",
    "print('  OR [1,1] : ', OR(1,1))\n",
    "print('  OR [0,1] : ', OR(0,1))\n",
    "print('  OR [1,0] : ', OR(1,0))\n",
    "print('  OR [0,0] : ', OR(0,0))"
   ]
  },
  {
   "cell_type": "markdown",
   "metadata": {},
   "source": [
    "#### All operations are the same, but only the weight and bias values are different."
   ]
  },
  {
   "cell_type": "code",
   "execution_count": 57,
   "metadata": {},
   "outputs": [],
   "source": [
    "def XOR(x1, x2):\n",
    "    s1 = NAND(x1, x2)\n",
    "    s2 = OR(x1, x2)\n",
    "    y = AND(s1, s2)\n",
    "    \n",
    "    return y"
   ]
  },
  {
   "cell_type": "code",
   "execution_count": 58,
   "metadata": {},
   "outputs": [
    {
     "name": "stdout",
     "output_type": "stream",
     "text": [
      "  XOR [1,1] :  0\n",
      "  XOR [0,1] :  1\n",
      "  XOR [1,0] :  1\n",
      "  XOR [0,0] :  0\n"
     ]
    }
   ],
   "source": [
    "print('  XOR [1,1] : ', XOR(1,1))\n",
    "print('  XOR [0,1] : ', XOR(0,1))\n",
    "print('  XOR [1,0] : ', XOR(1,0))\n",
    "print('  XOR [0,0] : ', XOR(0,0))"
   ]
  },
  {
   "cell_type": "code",
   "execution_count": null,
   "metadata": {},
   "outputs": [],
   "source": []
  }
 ],
 "metadata": {
  "kernelspec": {
   "display_name": "Python 3",
   "language": "python",
   "name": "python3"
  },
  "language_info": {
   "codemirror_mode": {
    "name": "ipython",
    "version": 3
   },
   "file_extension": ".py",
   "mimetype": "text/x-python",
   "name": "python",
   "nbconvert_exporter": "python",
   "pygments_lexer": "ipython3",
   "version": "3.6.5"
  }
 },
 "nbformat": 4,
 "nbformat_minor": 2
}
