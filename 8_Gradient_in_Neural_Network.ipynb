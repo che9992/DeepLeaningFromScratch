{
 "cells": [
  {
   "cell_type": "markdown",
   "metadata": {},
   "source": [
    "# Gradient in Neural Network<hr>\n",
    "\n",
    "We also need to get a gradient from neural network training, the gradient here is\n",
    "gradient of the cost function for the weight value.<br>\n",
    "If there is a neural network with a weight of W and a cost function of L and size of 2 x 3, in this case, the gradient can be expressed as \\\\(\\frac{\\partial L}{\\partial W}\\\\)<br>\n",
    "Here is the fomula\n",
    "![gradient_in_neural_net](./images/gradient_in_neural_net.PNG)\n",
    "\n",
    "It can be implemented as follows"
   ]
  },
  {
   "cell_type": "code",
   "execution_count": 3,
   "metadata": {},
   "outputs": [],
   "source": [
    "import sys, os\n",
    "sys.path.append(os.pardir)\n",
    "import numpy as np\n",
    "from common.functions import softmax, cross_entropy_error\n",
    "from common.gradient import numerical_gradient"
   ]
  },
  {
   "cell_type": "code",
   "execution_count": 18,
   "metadata": {},
   "outputs": [],
   "source": [
    "class simpleNet:\n",
    "    def __init__(self):\n",
    "        self.W = np.random.randn(2,3)\n",
    "        \n",
    "    def predict(self, x):\n",
    "        return np.dot(x, self.W)\n",
    "    \n",
    "    def loss(self, x, t):\n",
    "        z = self.predict(x)\n",
    "        y = softmax(z)\n",
    "        loss = cross_entropy_error(y, t)\n",
    "        \n",
    "        return loss       "
   ]
  },
  {
   "cell_type": "code",
   "execution_count": 22,
   "metadata": {},
   "outputs": [
    {
     "name": "stdout",
     "output_type": "stream",
     "text": [
      "[[ 1.28871095  0.92832209 -2.25996271]\n",
      " [ 0.45573205  0.78411255  1.1170273 ]]\n",
      "[ 1.18338541  1.26269454 -0.35065306]\n"
     ]
    },
    {
     "data": {
      "text/plain": [
       "2.366164428331534"
      ]
     },
     "execution_count": 22,
     "metadata": {},
     "output_type": "execute_result"
    }
   ],
   "source": [
    "net = simpleNet()\n",
    "print(net.W)\n",
    "\n",
    "x = np.array([0.6, 0.9])\n",
    "p = net.predict(x)\n",
    "print(p)\n",
    "\n",
    "np.argmax(p)\n",
    "\n",
    "t = np.array([0, 0, 1]) # correct list\n",
    "net.loss(x, t)"
   ]
  },
  {
   "cell_type": "markdown",
   "metadata": {},
   "source": [
    "Let's get gradients"
   ]
  },
  {
   "cell_type": "code",
   "execution_count": 24,
   "metadata": {},
   "outputs": [
    {
     "name": "stdout",
     "output_type": "stream",
     "text": [
      "[[ 0.26107339  0.28262211 -0.5436955 ]\n",
      " [ 0.39161009  0.42393316 -0.81554325]]\n"
     ]
    }
   ],
   "source": [
    "def f(W):\n",
    "    return net.loss(x, t)\n",
    "\n",
    "dW = numerical_gradient(f, net.W)\n",
    "print(dW)\n",
    "\n",
    "# also can be used like this \n",
    "# f = lambda w: net.loss(x, t)\n",
    "# dW = numerical_gradient(f, net.W)"
   ]
  },
  {
   "cell_type": "markdown",
   "metadata": {},
   "source": [
    "There are \\\\(\\frac{\\partial L}{\\partial W} \\\\)<br>\n",
    "The \\\\(\\frac{\\partial L}{\\partial W_{11}} \\\\) is alomost 0.2 this mean, if you increase \\\\(W_{11}\\\\) by h, the value of the loss function increases by 0.2h<br>\n",
    "And the \\\\(\\frac{\\partial L}{\\partial W_{13}}\\\\) is almost -0.5 this mean if you increase \\\\(W_{13}\\\\) by h, the value of the loss function decreases by 0.5h<br>"
   ]
  },
  {
   "cell_type": "code",
   "execution_count": null,
   "metadata": {},
   "outputs": [],
   "source": []
  }
 ],
 "metadata": {
  "kernelspec": {
   "display_name": "Python 3",
   "language": "python",
   "name": "python3"
  },
  "language_info": {
   "codemirror_mode": {
    "name": "ipython",
    "version": 3
   },
   "file_extension": ".py",
   "mimetype": "text/x-python",
   "name": "python",
   "nbconvert_exporter": "python",
   "pygments_lexer": "ipython3",
   "version": "3.6.5"
  }
 },
 "nbformat": 4,
 "nbformat_minor": 2
}
