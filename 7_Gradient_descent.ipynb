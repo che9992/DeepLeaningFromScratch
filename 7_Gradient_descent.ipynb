{
 "cells": [
  {
   "cell_type": "markdown",
   "metadata": {},
   "source": [
    "# Gradient Descent<hr>\n",
    "\n",
    "Neural networks need to find optimal parameters(weight and bias) in the learning phase\n",
    "\n",
    "Using gradient to find the minimum of a function (cost or loss function) is a gradient descent method\n",
    "\n",
    "### Here is the formula\n",
    "![gradient_descent_fomula](./images/gradient_descent_fomula.PNG)\n",
    "\n",
    "This is a one-time update and iterates to minimize function values.\n",
    "<br>\\\\(\\eta\\\\) is learning rate in Neural networks<br>\n",
    "It can be implemented as follows\n"
   ]
  },
  {
   "cell_type": "code",
   "execution_count": 8,
   "metadata": {},
   "outputs": [],
   "source": [
    "def numerical_gradient(f, x):\n",
    "    h = 1e-4\n",
    "    grad = np.zeros_like(x)\n",
    "    \n",
    "    for idx in range(x.size):\n",
    "        # save origin value\n",
    "        tmp_val = x[idx]\n",
    "        \n",
    "        # calculate f(x+h)\n",
    "        x[idx] = tmp_val + h\n",
    "        fxh1 = f(x)\n",
    "        \n",
    "        # calculate f(x-h)\n",
    "        x[idx] = tmp_val - h\n",
    "        fxh2 = f(x)\n",
    "        \n",
    "        grad[idx] = (fxh1 - fxh2) / (2*h)\n",
    "        \n",
    "        # restore origin value\n",
    "        x[idx] = tmp_val\n",
    "        \n",
    "    return grad\n",
    "\n",
    "def gradient_descent(f, init_x, lr=0.01, step_num=100):\n",
    "    x = init_x\n",
    "    \n",
    "    for i in range(step_num):\n",
    "        grad = numerical_gradient(f, x)\n",
    "        x -= lr * grad\n",
    "        if i % 10 == 0:\n",
    "            print('step: ', i, 'x: ', x)\n",
    "    return x"
   ]
  },
  {
   "cell_type": "markdown",
   "metadata": {},
   "source": [
    "*def numerical_gradient* finds gradients from function.<br>\n",
    "In *def gradient_descent*, f is the function you want to optimize, lr is learning rate.\n",
    "\n",
    "### Example 1"
   ]
  },
  {
   "cell_type": "code",
   "execution_count": 14,
   "metadata": {},
   "outputs": [
    {
     "name": "stdout",
     "output_type": "stream",
     "text": [
      "step:  0 x:  [-2.4  3.2]\n",
      "step:  10 x:  [-0.25769804  0.34359738]\n",
      "step:  20 x:  [-0.02767012  0.03689349]\n",
      "step:  30 x:  [-0.00297106  0.00396141]\n",
      "step:  40 x:  [-0.00031901  0.00042535]\n",
      "step:  50 x:  [-3.42539446e-05  4.56719262e-05]\n",
      "step:  60 x:  [-3.67798930e-06  4.90398573e-06]\n",
      "step:  70 x:  [-3.94921094e-07  5.26561458e-07]\n",
      "step:  80 x:  [-4.24043296e-08  5.65391061e-08]\n",
      "step:  90 x:  [-4.55313022e-09  6.07084029e-09]\n"
     ]
    },
    {
     "data": {
      "text/plain": [
       "array([-6.11110793e-10,  8.14814391e-10])"
      ]
     },
     "execution_count": 14,
     "metadata": {},
     "output_type": "execute_result"
    }
   ],
   "source": [
    "import numpy as np \n",
    "\n",
    "def function_2(x):\n",
    "    return x[0]**2 + x[1]**2\n",
    "init_x = np.array([-3.0, 4.0])\n",
    "gradient_descent(function_2, init_x=init_x, lr=0.1, step_num=100)"
   ]
  },
  {
   "cell_type": "markdown",
   "metadata": {},
   "source": [
    "The result are almost zero.<br>\n",
    "zero is minimize value so we just got correct result from gradient descent"
   ]
  },
  {
   "cell_type": "code",
   "execution_count": null,
   "metadata": {},
   "outputs": [],
   "source": []
  }
 ],
 "metadata": {
  "kernelspec": {
   "display_name": "Python 3",
   "language": "python",
   "name": "python3"
  },
  "language_info": {
   "codemirror_mode": {
    "name": "ipython",
    "version": 3
   },
   "file_extension": ".py",
   "mimetype": "text/x-python",
   "name": "python",
   "nbconvert_exporter": "python",
   "pygments_lexer": "ipython3",
   "version": "3.6.5"
  }
 },
 "nbformat": 4,
 "nbformat_minor": 2
}
